{
 "cells": [
  {
   "cell_type": "code",
   "execution_count": 5,
   "metadata": {},
   "outputs": [
    {
     "name": "stderr",
     "output_type": "stream",
     "text": [
      "Config './detectron2_repo/configs/COCO-InstanceSegmentation/mask_rcnn_R_50_FPN_3x_APD.yaml' has no VERSION. Assuming it to be compatible with latest v2.\n"
     ]
    },
    {
     "name": "stdout",
     "output_type": "stream",
     "text": [
      "Beginning setup...\n",
      "[Building model]\n",
      "Elapsed: 0.5848042964935303\n",
      "[Building dataloader]\n",
      "Elapsed: 30.87593722343445\n",
      "Completing setup...\n"
     ]
    }
   ],
   "source": [
    "\"\"\"\n",
    "The goal of assign_multiple_gt_per_box is to prove we can overfit to a single selected proposal.  Reasoning:\n",
    "- With the customized head, we need to specialize the loss with respect to each proposal\n",
    "- With the customized head, we may be using only a subset of the proposals, or a different set entirely (interfacing\n",
    "at an earlier level).  By fitting to a single proposal, we're demonstrating that we are able to interface at the\n",
    "proposal rather than image level.\n",
    "- Our next step will be to change this loss to the customized loss.\n",
    "\"\"\"\n",
    "\n",
    "import torch\n",
    "import torch.distributed\n",
    "\n",
    "from detectron2.data import MetadataCatalog\n",
    "import vis_utils\n",
    "from detectron2.utils.events import EventStorage\n",
    "import script_utils\n",
    "from trainer_apd import Trainer_APD\n",
    "\n",
    "exporter_ = None\n",
    "\n",
    "\n",
    "def dbprint(*args, **kwargs):\n",
    "    print(*args, **kwargs)\n",
    "\n",
    "\n",
    "def train_on_single_image(trainer: Trainer_APD, datapoint, max_itr=100, start_itr=0):\n",
    "    assert max_itr >= start_itr\n",
    "    with EventStorage(0) as trainer.storage:\n",
    "        for t in range(max_itr - start_itr):\n",
    "            trainer.run_step_with_given_data(datapoint)\n",
    "\n",
    "            \n",
    "image_id = '486536'\n",
    "\n",
    "exporter = vis_utils.FigExporter()\n",
    "\n",
    "print('Beginning setup...')\n",
    "cfg = script_utils.get_custom_maskrcnn_cfg()\n",
    "trainer = Trainer_APD(cfg)\n",
    "\n",
    "print('Completing setup...')\n",
    "standard_head = trainer.model.roi_heads.mask_heads['standard']\n",
    "custom_head = trainer.model.roi_heads.mask_heads['custom']\n",
    "\n",
    "datapoint = torch.load(script_utils.get_datapoint_file(cfg, image_id))\n",
    "\n",
    "if type(datapoint) is list:\n",
    "    datapoint = datapoint[0]\n",
    "batch = [datapoint]\n",
    "\n",
    "# head_type = 'custom' if custom_head else 'standard'\n",
    "head_type = 'custom'\n",
    "script_utils.activate_head_type(trainer, head_type)\n",
    "cfg_tag = f\"_{head_type}\"\n",
    "\n",
    "metadata = MetadataCatalog.get(cfg.DATASETS.TRAIN[0])\n",
    "names = metadata.get(\"thing_classes\", None)\n",
    "labels = [names[i] for i in datapoint['instances'].gt_classes]\n"
   ]
  },
  {
   "cell_type": "code",
   "execution_count": null,
   "metadata": {},
   "outputs": [],
   "source": []
  }
 ],
 "metadata": {
  "kernelspec": {
   "display_name": "pytorch4_python3",
   "language": "python",
   "name": "pytorch4_python3"
  },
  "language_info": {
   "codemirror_mode": {
    "name": "ipython",
    "version": 3
   },
   "file_extension": ".py",
   "mimetype": "text/x-python",
   "name": "python",
   "nbconvert_exporter": "python",
   "pygments_lexer": "ipython3",
   "version": "3.6.6"
  }
 },
 "nbformat": 4,
 "nbformat_minor": 1
}
